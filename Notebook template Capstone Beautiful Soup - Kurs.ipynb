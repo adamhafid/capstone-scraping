{
 "cells": [
  {
   "cell_type": "markdown",
   "metadata": {},
   "source": [
    "# Name : Adam Hafid Nurfalah"
   ]
  },
  {
   "cell_type": "markdown",
   "metadata": {},
   "source": [
    "# Capstone Webscrapping using BeautifulSoup\n",
    "\n",
    "Pada capstone project ini akan melakukan proses scraping data dari website `https://news.mifx.com`. untuk detail pengambilan datanya akan terfokuskan kepada kurs valuta asing `JPY`\n",
    "\n",
    "Proses pengambilan data akan menggunakan library dari `Beautifulsoap`. setalah itu akan di ubah bentuknya ke dalam dataframe. dan akan di visualisasikan menggunakan library python `matplotlib`. diharapkan pada analisa ini dapat menyampaikan insight kepada pembaca\n",
    "\n"
   ]
  },
  {
   "cell_type": "code",
   "execution_count": 3,
   "metadata": {
    "ExecuteTime": {
     "end_time": "2020-01-13T05:12:23.275508Z",
     "start_time": "2020-01-13T05:12:20.009898Z"
    }
   },
   "outputs": [],
   "source": [
    "import requests\n",
    "\n",
    "url_get = requests.get('https://news.mifx.com/kurs-valuta-asing?kurs=JPY')"
   ]
  },
  {
   "cell_type": "markdown",
   "metadata": {},
   "source": [
    "To visualize what exactly you get from the `request.get`, we can use .content so ee what we exactly get, in here i slice it so it won't make our screen full of the html we get from the page. You can delete the slicing if you want to see what we fully get."
   ]
  },
  {
   "cell_type": "code",
   "execution_count": 4,
   "metadata": {
    "ExecuteTime": {
     "end_time": "2020-01-13T05:12:23.290648Z",
     "start_time": "2020-01-13T05:12:23.277650Z"
    }
   },
   "outputs": [
    {
     "data": {
      "text/plain": [
       "b'!DOCTYPE html PUBLIC \"-//W3C//DTD XHTML 1.0 Transitional//EN\" \"http://www.w3.org/TR/xhtml1/DTD/xhtml1-transitional.dtd\">\\n<html xmlns=\"http://www.w3.org/1999/xhtml\">\\n<head>\\n<meta http-equiv=\"Content-Language\" content=\"en,in\" />\\n<link rel=\"alternate\" href=\"https://news.mifx.com/kurs-valuta-asing.php\" hreflang=\"en-ID\" />\\n<base href=\"https://news.mifx.com/\" target=\"_self\" />\\n<title>Kurs Dollar | USD | Nilai Tukar Dollar Hari Ini</title>\\n<meta property=\"og:title\" content=\"Kurs Dollar | USD | Nilai Tukar Dollar Hari Ini\" />\\n<meta name=\"description\" content=\"Nilai tukar rupiah terhadap dollar hari ini berdasarkan kurs tengah Bank Indonesia. \" />\\n<meta property=\"og:description\" content=\"Nilai tukar rupiah terhadap dollar hari ini berdasarkan kurs tengah Bank Indonesia. \" />'"
      ]
     },
     "execution_count": 4,
     "metadata": {},
     "output_type": "execute_result"
    }
   ],
   "source": [
    "url_get.content[1:777]"
   ]
  },
  {
   "cell_type": "markdown",
   "metadata": {},
   "source": [
    "As we can see we get a very unstructured and complex html, which actually contains the codes needed to show the webpages on your web browser. But we as human still confused what and where we can use that piece of code, so here where we use the beautifulsoup. Beautiful soup class will result a beautifulsoup object. Beautiful Soup transforms a complex HTML document into a complex tree of Python objects. But you’ll only ever have to deal with about four kinds of objects: `Tag`, `NavigableString`, `BeautifulSoup`, and `Comment`. But at this module we will only use `BeautifulSoup`."
   ]
  },
  {
   "cell_type": "code",
   "execution_count": 5,
   "metadata": {
    "ExecuteTime": {
     "end_time": "2020-01-13T05:12:23.808122Z",
     "start_time": "2020-01-13T05:12:23.292610Z"
    }
   },
   "outputs": [
    {
     "name": "stdout",
     "output_type": "stream",
     "text": [
      "<class 'bs4.BeautifulSoup'>\n"
     ]
    }
   ],
   "source": [
    "from bs4 import BeautifulSoup \n",
    "\n",
    "soup = BeautifulSoup(url_get.content,\"html.parser\")\n",
    "print(type(soup))"
   ]
  },
  {
   "cell_type": "markdown",
   "metadata": {},
   "source": [
    "Let's see how our beautifulsoup looks like. As you can see, the content is the same with our `get_url` object but it's tidier. Also beautifulsoup give us method to make it even more prettier, for tidyness purpouse we slice to only see first 1045 character. "
   ]
  },
  {
   "cell_type": "code",
   "execution_count": 6,
   "metadata": {
    "ExecuteTime": {
     "end_time": "2020-01-13T05:12:23.851033Z",
     "start_time": "2020-01-13T05:12:23.810086Z"
    },
    "scrolled": true
   },
   "outputs": [
    {
     "name": "stdout",
     "output_type": "stream",
     "text": [
      "<!DOCTYPE html PUBLIC \"-//W3C//DTD XHTML 1.0 Transitional//EN\" \"http://www.w3.org/TR/xhtml1/DTD/xhtml1-transitional.dtd\">\n",
      "<html xmlns=\"http://www.w3.org/1999/xhtml\">\n",
      " <head>\n",
      "  <meta content=\"en,in\" http-equiv=\"Content-Language\"/>\n",
      "  <link href=\"https://news.mifx.com/kurs-valuta-asing.php\" hreflang=\"en-ID\" rel=\"alternate\"/>\n",
      "  <base href=\"https://news.mifx.com/\" target=\"_self\"/>\n",
      "  <title>\n",
      "   Kurs Dollar | USD | Nilai Tukar Dollar Hari Ini\n",
      "  </title>\n",
      "  <meta content=\"Kurs Dollar | USD | Nilai Tukar Dollar Hari Ini\" property=\"og:title\"/>\n",
      "  <meta content=\"Nilai tukar rupiah terhadap dollar hari ini berdasarkan kurs tengah Bank Indonesia. \" name=\"description\"/>\n",
      "  <meta content=\"Nilai tukar rupiah terhadap dollar hari ini berdasarkan kurs tengah Bank Indonesia. \" property=\"og:description\"/>\n",
      "  <meta content=\"Broker Terbaik, Trading Forex, Trading Teregulasi, Trading Online, Monex, mifx,\" name=\"keywords\"/>\n",
      "  <meta content=\"favicon.jpg?v=1570462055\" property=\"og:image\"/>\n",
      "  <meta content=\"Ultimaengine.com\" name=\"author\"/>\n",
      "  <meta content=\"fo\n"
     ]
    }
   ],
   "source": [
    "print(soup.prettify()[:1045])"
   ]
  },
  {
   "cell_type": "markdown",
   "metadata": {},
   "source": [
    "Find the key and put the key into the `.find()` Put all the exploring the right key at this cell."
   ]
  },
  {
   "cell_type": "markdown",
   "metadata": {},
   "source": [
    "Pada tahap ini akan memetakan bagian `HTML` yang akan di scraping menggunakan beautifulsoap. Di targetkan akan mengambil data `Tanggal`, `Ask` dan `Bid`. Maka, akan dilakukan pengambilan data dari `Table` dengan atribut class `centerText newsTable2`"
   ]
  },
  {
   "cell_type": "code",
   "execution_count": 7,
   "metadata": {
    "ExecuteTime": {
     "end_time": "2020-01-13T05:12:23.878904Z",
     "start_time": "2020-01-13T05:12:23.854974Z"
    }
   },
   "outputs": [
    {
     "name": "stdout",
     "output_type": "stream",
     "text": [
      "table cellpadding=\"10\" cellspacing=\"0\" class=\"centerText newsTable2\" width=\"100%\">\n",
      " <tr class=\"colorWhite fontsize14 firstRow\">\n",
      "  <td>\n",
      "   TANGGAL\n",
      "  </td>\n",
      "  <td>\n",
      "   ASK\n",
      "  </td>\n",
      "  <td>\n",
      "   BID\n",
      "  </td>\n",
      " </tr>\n",
      " <tr class=\"verySoftGreyBg\">\n",
      "  <td>\n",
      "   07 Agustus 2020\n",
      "  </td>\n",
      "  <td>\n",
      "   139,42\n",
      "  </td>\n",
      "  <td>\n",
      "   138,02\n",
      "  </td>\n",
      " </tr>\n",
      " <tr>\n",
      "  <td>\n",
      "   06 Agustus 2020\n",
      "  </td>\n",
      "  <td>\n",
      "   138,88\n",
      "  </td>\n",
      "  <td>\n",
      "   137,48\n",
      "  </td>\n",
      " </tr>\n",
      " <tr class=\"verySoftGreyBg\">\n",
      "  <td>\n",
      "   05 Agustus 2020\n",
      "  </td>\n",
      "  <td>\n",
      "   139,23\n",
      "  </td>\n",
      "  <td>\n",
      "   137,84\n",
      "  </td>\n",
      " </tr>\n",
      " <tr>\n",
      "  <td>\n",
      "   04 Agustus 2020\n",
      "  </td>\n",
      "  <td>\n",
      "   139,19\n",
      "  </td>\n",
      "  <td>\n",
      "   137,79\n",
      "  </td>\n",
      " </tr>\n",
      " <tr class=\"verySoftGreyBg\">\n",
      "  <td>\n",
      "   03 Agustus 2020\n",
      "  </td>\n",
      "  <td>\n",
      "   139,72\n",
      "  </td>\n",
      "  <td>\n",
      "   138,32\n",
      "  </td>\n",
      " </tr>\n",
      "</table>\n",
      "\n"
     ]
    }
   ],
   "source": [
    "table = soup.find('table', attrs={'class':'centerText newsTable2'})\n",
    "print(table.prettify()[1:1000])"
   ]
  },
  {
   "cell_type": "markdown",
   "metadata": {},
   "source": [
    "Proses ini memfokuskan pada item `Tanggal`, `Ask` dan `Bid`"
   ]
  },
  {
   "cell_type": "code",
   "execution_count": 8,
   "metadata": {
    "scrolled": true
   },
   "outputs": [
    {
     "data": {
      "text/plain": [
       "[<tr class=\"colorWhite fontsize14 firstRow\">\n",
       " <td>TANGGAL</td>\n",
       " <td>ASK</td>\n",
       " <td>BID</td>\n",
       " </tr>,\n",
       " <tr class=\"verySoftGreyBg\">\n",
       " <td>07 Agustus 2020</td>\n",
       " <td>139,42</td>\n",
       " <td>138,02</td>\n",
       " </tr>]"
      ]
     },
     "execution_count": 8,
     "metadata": {},
     "output_type": "execute_result"
    }
   ],
   "source": [
    "tr = table.find_all('tr')\n",
    "tr[:2] # just call 2 founded tr"
   ]
  },
  {
   "cell_type": "code",
   "execution_count": 30,
   "metadata": {
    "ExecuteTime": {
     "end_time": "2020-01-13T05:12:24.008256Z",
     "start_time": "2020-01-13T05:12:23.980358Z"
    }
   },
   "outputs": [
    {
     "data": {
      "text/plain": [
       "[('07\\xa0Agustus\\xa02020', '139,42', '138,02'),\n",
       " ('06\\xa0Agustus\\xa02020', '138,88', '137,48'),\n",
       " ('05\\xa0Agustus\\xa02020', '139,23', '137,84'),\n",
       " ('04\\xa0Agustus\\xa02020', '139,19', '137,79'),\n",
       " ('03\\xa0Agustus\\xa02020', '139,72', '138,32')]"
      ]
     },
     "execution_count": 30,
     "metadata": {},
     "output_type": "execute_result"
    }
   ],
   "source": [
    "temp = [] #initiating a tuple\n",
    "\n",
    "for i in range(1, len(tr)):\n",
    "    row = table.find_all('tr')[i]\n",
    "    \n",
    "    #get tanggal\n",
    "    tanggal = row.find_all('td')[0].text\n",
    "    tanggal = tanggal.strip() #for removing the excess whitespace\n",
    "    \n",
    "    #get ask\n",
    "    ask = row.find_all('td')[1].text\n",
    "    ask = ask.strip() #for removing the excess whitespace\n",
    "    \n",
    "    #get bid\n",
    "    bid = row.find_all('td')[2].text\n",
    "    bid = bid.strip() #for removing the excess whitespace\n",
    "\n",
    "    \n",
    "    temp.append((tanggal,ask,bid)) \n",
    "    \n",
    "    \n",
    "temp "
   ]
  },
  {
   "cell_type": "code",
   "execution_count": 31,
   "metadata": {},
   "outputs": [
    {
     "data": {
      "text/plain": [
       "[('03\\xa0Agustus\\xa02020', '139,72', '138,32'),\n",
       " ('04\\xa0Agustus\\xa02020', '139,19', '137,79'),\n",
       " ('05\\xa0Agustus\\xa02020', '139,23', '137,84'),\n",
       " ('06\\xa0Agustus\\xa02020', '138,88', '137,48'),\n",
       " ('07\\xa0Agustus\\xa02020', '139,42', '138,02')]"
      ]
     },
     "execution_count": 31,
     "metadata": {},
     "output_type": "execute_result"
    }
   ],
   "source": [
    "temp = temp[::-1]\n",
    "temp"
   ]
  },
  {
   "cell_type": "markdown",
   "metadata": {},
   "source": [
    "Put the array into dataframe"
   ]
  },
  {
   "cell_type": "code",
   "execution_count": 32,
   "metadata": {
    "ExecuteTime": {
     "end_time": "2020-01-13T05:12:41.517372Z",
     "start_time": "2020-01-13T05:12:29.130015Z"
    },
    "scrolled": true
   },
   "outputs": [
    {
     "data": {
      "text/html": [
       "<div>\n",
       "<style scoped>\n",
       "    .dataframe tbody tr th:only-of-type {\n",
       "        vertical-align: middle;\n",
       "    }\n",
       "\n",
       "    .dataframe tbody tr th {\n",
       "        vertical-align: top;\n",
       "    }\n",
       "\n",
       "    .dataframe thead th {\n",
       "        text-align: right;\n",
       "    }\n",
       "</style>\n",
       "<table border=\"1\" class=\"dataframe\">\n",
       "  <thead>\n",
       "    <tr style=\"text-align: right;\">\n",
       "      <th></th>\n",
       "      <th>tanggal</th>\n",
       "      <th>ask</th>\n",
       "      <th>bid</th>\n",
       "    </tr>\n",
       "  </thead>\n",
       "  <tbody>\n",
       "    <tr>\n",
       "      <th>0</th>\n",
       "      <td>03 Agustus 2020</td>\n",
       "      <td>139,72</td>\n",
       "      <td>138,32</td>\n",
       "    </tr>\n",
       "    <tr>\n",
       "      <th>1</th>\n",
       "      <td>04 Agustus 2020</td>\n",
       "      <td>139,19</td>\n",
       "      <td>137,79</td>\n",
       "    </tr>\n",
       "    <tr>\n",
       "      <th>2</th>\n",
       "      <td>05 Agustus 2020</td>\n",
       "      <td>139,23</td>\n",
       "      <td>137,84</td>\n",
       "    </tr>\n",
       "    <tr>\n",
       "      <th>3</th>\n",
       "      <td>06 Agustus 2020</td>\n",
       "      <td>138,88</td>\n",
       "      <td>137,48</td>\n",
       "    </tr>\n",
       "    <tr>\n",
       "      <th>4</th>\n",
       "      <td>07 Agustus 2020</td>\n",
       "      <td>139,42</td>\n",
       "      <td>138,02</td>\n",
       "    </tr>\n",
       "  </tbody>\n",
       "</table>\n",
       "</div>"
      ],
      "text/plain": [
       "           tanggal     ask     bid\n",
       "0  03 Agustus 2020  139,72  138,32\n",
       "1  04 Agustus 2020  139,19  137,79\n",
       "2  05 Agustus 2020  139,23  137,84\n",
       "3  06 Agustus 2020  138,88  137,48\n",
       "4  07 Agustus 2020  139,42  138,02"
      ]
     },
     "execution_count": 32,
     "metadata": {},
     "output_type": "execute_result"
    }
   ],
   "source": [
    "import pandas as pd\n",
    "import dateparser\n",
    "\n",
    "df = pd.DataFrame(temp, columns=('tanggal','ask','bid'))\n",
    "df.head()"
   ]
  },
  {
   "cell_type": "markdown",
   "metadata": {},
   "source": [
    "Proses ini dilakukan untuk `Data cleaning` pada series `ask` dan `bid`. Untuk `,` akan di ubah menjadi `.` bertujuan untuk dapat mengubah data type menjadi float64"
   ]
  },
  {
   "cell_type": "code",
   "execution_count": 33,
   "metadata": {
    "ExecuteTime": {
     "end_time": "2020-01-13T05:12:59.165559Z",
     "start_time": "2020-01-13T05:12:58.910012Z"
    }
   },
   "outputs": [],
   "source": [
    "df['ask'] = df['ask'].str.replace(\",\",\".\")\n",
    "df['bid'] = df['bid'].str.replace(\",\",\".\")\n",
    "df[['ask','bid']] = df[['ask','bid']].astype('float64')\n",
    "#df['tanggal'] = df['tanggal'].str.replace(\"\\xa0\",\" \")\n",
    "df['tanggal']=df['tanggal'].apply(dateparser.parse)"
   ]
  },
  {
   "cell_type": "code",
   "execution_count": 34,
   "metadata": {},
   "outputs": [
    {
     "data": {
      "text/html": [
       "<div>\n",
       "<style scoped>\n",
       "    .dataframe tbody tr th:only-of-type {\n",
       "        vertical-align: middle;\n",
       "    }\n",
       "\n",
       "    .dataframe tbody tr th {\n",
       "        vertical-align: top;\n",
       "    }\n",
       "\n",
       "    .dataframe thead th {\n",
       "        text-align: right;\n",
       "    }\n",
       "</style>\n",
       "<table border=\"1\" class=\"dataframe\">\n",
       "  <thead>\n",
       "    <tr style=\"text-align: right;\">\n",
       "      <th></th>\n",
       "      <th>tanggal</th>\n",
       "      <th>ask</th>\n",
       "      <th>bid</th>\n",
       "    </tr>\n",
       "  </thead>\n",
       "  <tbody>\n",
       "    <tr>\n",
       "      <th>0</th>\n",
       "      <td>2020-08-03</td>\n",
       "      <td>139.72</td>\n",
       "      <td>138.32</td>\n",
       "    </tr>\n",
       "    <tr>\n",
       "      <th>1</th>\n",
       "      <td>2020-08-04</td>\n",
       "      <td>139.19</td>\n",
       "      <td>137.79</td>\n",
       "    </tr>\n",
       "    <tr>\n",
       "      <th>2</th>\n",
       "      <td>2020-08-05</td>\n",
       "      <td>139.23</td>\n",
       "      <td>137.84</td>\n",
       "    </tr>\n",
       "    <tr>\n",
       "      <th>3</th>\n",
       "      <td>2020-08-06</td>\n",
       "      <td>138.88</td>\n",
       "      <td>137.48</td>\n",
       "    </tr>\n",
       "    <tr>\n",
       "      <th>4</th>\n",
       "      <td>2020-08-07</td>\n",
       "      <td>139.42</td>\n",
       "      <td>138.02</td>\n",
       "    </tr>\n",
       "  </tbody>\n",
       "</table>\n",
       "</div>"
      ],
      "text/plain": [
       "     tanggal     ask     bid\n",
       "0 2020-08-03  139.72  138.32\n",
       "1 2020-08-04  139.19  137.79\n",
       "2 2020-08-05  139.23  137.84\n",
       "3 2020-08-06  138.88  137.48\n",
       "4 2020-08-07  139.42  138.02"
      ]
     },
     "execution_count": 34,
     "metadata": {},
     "output_type": "execute_result"
    }
   ],
   "source": [
    "df.head()"
   ]
  },
  {
   "cell_type": "code",
   "execution_count": 40,
   "metadata": {
    "scrolled": false
   },
   "outputs": [
    {
     "data": {
      "text/plain": [
       "<AxesSubplot:xlabel='tanggal'>"
      ]
     },
     "execution_count": 40,
     "metadata": {},
     "output_type": "execute_result"
    },
    {
     "data": {
      "image/png": "[encoded data removed]",
      "text/plain": [
       "<Figure size 432x288 with 1 Axes>"
      ]
     },
     "metadata": {
      "needs_background": "light"
     },
     "output_type": "display_data"
    }
   ],
   "source": [
    "df.set_index('tanggal').plot()"
   ]
  },
  {
   "cell_type": "markdown",
   "metadata": {},
   "source": [
    "Trend pada `ask` dan `bid` cenderung naik, walaupun sempat melandai. dari grafik di atas dilihat bahwa `ask` selalu lebih tinggi di banding nilai `bid`"
   ]
  }
 ],
 "metadata": {
  "kernelspec": {
   "display_name": "beautifulsoap",
   "language": "python",
   "name": "beautifulsoap"
  },
  "language_info": {
   "codemirror_mode": {
    "name": "ipython",
    "version": 3
   },
   "file_extension": ".py",
   "mimetype": "text/x-python",
   "name": "python",
   "nbconvert_exporter": "python",
   "pygments_lexer": "ipython3",
   "version": "3.8.5"
  }
 },
 "nbformat": 4,
 "nbformat_minor": 2
}
